{
 "cells": [
  {
   "cell_type": "markdown",
   "id": "10bb828a",
   "metadata": {},
   "source": [
    "## ImpactSense – Earthquake Impact Prediction & Risk Visualization\n",
    "\n",
    "#### Project Title & Team Information\n",
    "- **Project Name**: ImpactSense – Earthquake Impact Prediction & Risk Visualization\n",
    "- **Team Members**: Data Science Intern Team\n",
    "- **Project Duration**: 8 Weeks\n",
    "- **Version**: 1.0\n",
    "- **Date**: 8th, October 2025"
   ]
  },
  {
   "cell_type": "markdown",
   "id": "c4b70fc7",
   "metadata": {},
   "source": [
    "### Executive Summary\n",
    "ImpactSense is an end-to-end machine learning system that predicts earthquake **Damage Potential**, classifies **Risk Category**, and visualizes geographic risks using an interactive web application powered by Streamlit. The deliverables include data preprocessing pipelines, a trained LightGBM model, explainability via SHAP, and a user-friendly interface for both single-event and batch predictions."
   ]
  },
  {
   "cell_type": "markdown",
   "id": "2a722d1a",
   "metadata": {},
   "source": [
    "### 1. Business Context & Problem Statement\n",
    "\n",
    "#### 1.1 Problem Definition\n",
    "Decision-makers require consolidated earthquake severity indicators beyond magnitude and depth. ImpactSense addresses this by providing a unified **Damage Potential** score and interactive risk visualizations.\n",
    "\n",
    "#### 1.2 Business Case\n",
    "- **Stakeholders**: Disaster response agencies, city planners, utilities, insurers\n",
    "- **Use Cases**: Rapid risk assessment, resource allocation planning, urban resilience strategies\n",
    "- **ROI**: Enhanced situational awareness, optimized preparedness efforts\n",
    "\n",
    "#### 1.3 Success Criteria\n",
    "- Model accuracy (RMSE, R²) within predefined thresholds\n",
    "- Sub-second inference latency for single events\n",
    "- Clear interpretability via feature-attribution\n",
    "- Intuitive user interface for non-technical users"
   ]
  },
  {
   "cell_type": "markdown",
   "id": "6193ea15",
   "metadata": {},
   "source": [
    "### 2. Technical Architecture & System Design\n",
    "\n",
    "#### 2.1 System Overview\n",
    "1. **Data Ingestion**: Upload CSV with earthquake events\n",
    "2. **Preprocessing**: Pipeline for missing value imputation, feature engineering, encoding\n",
    "3. **Model Inference**: LightGBM for **Damage Potential** prediction\n",
    "4. **Visualization**: Statistical views, SHAP explainability, risk map\n",
    "\n",
    "#### 2.2 Technology Stack\n",
    "- **Frontend**: Streamlit\n",
    "- **Backend**: Python, scikit-learn, LightGBM\n",
    "- **Data Processing**: Pandas, NumPy\n",
    "- **Visualization**: Plotly, Matplotlib, Seaborn\n",
    "- **Explainability**: SHAP"
   ]
  },
  {
   "cell_type": "markdown",
   "id": "75a1a475",
   "metadata": {},
   "source": [
    "### 3. Data Documentation\n",
    "\n",
    "#### 3.1 Dataset Description\n",
    "- **Source**: Global seismic event catalog (e.g., USGS/ISC-GEM)\n",
    "- **Original Records**: 23,412 → **Earthquakes**: 23,229 → **Model Dataset**: 18,583\n",
    "- **Core Features**: Latitude, Longitude, Depth, Magnitude, RMS, Magnitude Type, Status\n",
    "\n",
    "#### 3.2 Preprocessing Pipeline\n",
    "- **Select Features**: 8 columns including RMS\n",
    "- **Impute RMS**: RandomForest on Latitude, Longitude, Depth, Magnitude\n",
    "- **Filter Earthquakes**: Remove non-earthquake events\n",
    "- **Feature Engineering**: `Damage_Potential = 0.6*Magnitude + 0.2*(700-Depth)/700*10`\n",
    "- **Encode Categoricals**: One-Hot for Magnitude Type, Status"
   ]
  },
  {
   "cell_type": "markdown",
   "id": "da7310c2",
   "metadata": {},
   "source": [
    "### 4.1 Problem Formulation\n",
    "- **Task**: Regression\n",
    "- **Target**: Damage_Potential\n",
    "- **Features**: 5 numeric + 11 encoded categorical\n",
    "\n",
    "### 4.2 Model Training\n",
    "- **Algorithm**: LightGBM Regressor (600 trees, 0.05 learning rate)\n",
    "- **Split**: 80% train / 20% test\n",
    "- **Evaluation**: RMSE: `0.014` & R²: `0.999`\n",
    "- **Artifacts**: `lgb_damage_model.pkl`, feature list\n",
    "\n",
    "### 4.3 Explainability\n",
    "- **Tool**: SHAP TreeExplainer\n",
    "- **Usage**: Integrated in Predict page expander"
   ]
  },
  {
   "cell_type": "markdown",
   "id": "16d10052",
   "metadata": {},
   "source": [
    "## 5. Application Features & User Guide\n",
    "\n",
    "### 5.1 Pages\n",
    "- **Data**: Summary stats, histograms, correlation heatmap\n",
    "- **Predict**: Single-event sliders/dropdowns; Damage Potential, Risk Category, Urban Risk Score; SHAP\n",
    "- **Map**: Mapbox scatter of risk labels and magnitudes\n",
    "- **About**: Metric definitions and project purpose\n",
    "\n",
    "### 5.2 Usage Steps\n",
    "1. Upload CSV with required columns\n",
    "2. Explore data distributions on Data page\n",
    "3. Switch to Predict page for interactive inference\n",
    "4. View spatial risk patterns on Map"
   ]
  },
  {
   "cell_type": "markdown",
   "id": "9664dedf",
   "metadata": {},
   "source": [
    "### 6. Deployment & Maintenance\n",
    "\n",
    "#### 6.1 Local Setup\n",
    "- `pip install -r requirements.txt`\n",
    "- `streamlit run app.py`\n",
    "\n",
    "#### 6.2 CI/CD & Docker\n",
    "- Optional Dockerfile for containerized deployment\n",
    "- GitHub Actions for pipeline validation\n",
    "\n",
    "#### 6.3 Monitoring & Retraining\n",
    "- Log predictions and inputs\n",
    "- Schedule periodic retraining with new earthquake events"
   ]
  },
  {
   "cell_type": "markdown",
   "id": "242c4cba",
   "metadata": {},
   "source": [
    "### 7. Future Roadmap\n",
    "- Integrate real-time USGS API ingestion\n",
    "- Population-weighted Urban Risk calibration\n",
    "- Hyperparameter tuning with Optuna\n",
    "- Mobile-friendly UI extension"
   ]
  },
  {
   "cell_type": "markdown",
   "id": "78915f50",
   "metadata": {},
   "source": [
    "## Appendix\n",
    "\n",
    "### A. Repository Structure\n",
    "```\n",
    "Project\n",
    "├── app.py\n",
    "├── train.py\n",
    "├── data_preprocessing_pipeline.py\n",
    "├── data_preprocessing.ipynb\n",
    "├── data/\n",
    "│   ├── database.csv\n",
    "│   ├── processed_trained_data.csv\n",
    "│   ├── train_data.csv\n",
    "│   └── test_data.csv\n",
    "└── models/\n",
    "    ├── data_preprocessing_pipeline.pkl\n",
    "    └── lgb_damage_model.pkl\n",
    "```"
   ]
  },
  {
   "cell_type": "markdown",
   "id": "c0a8e1a9",
   "metadata": {},
   "source": [
    "### B. Key Equations\n",
    "- **Damage Potential**: `0.6*Magnitude + 0.2*(700-Depth)/700*10`\n",
    "- **Urban Risk Score**: `Damage_Potential * (1 + (|Latitude|+|Longitude|)/360)`\n",
    "\n",
    "---\n",
    "*Generated by ImpactSense team on October 09, 2025*"
   ]
  }
 ],
 "metadata": {
  "kernelspec": {
   "display_name": "Python 3",
   "language": "python",
   "name": "python3"
  },
  "language_info": {
   "name": "python",
   "version": "3.11.9"
  }
 },
 "nbformat": 4,
 "nbformat_minor": 5
}
