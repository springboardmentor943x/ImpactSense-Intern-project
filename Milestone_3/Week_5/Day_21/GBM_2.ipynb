{
 "cells": [
  {
   "cell_type": "markdown",
   "id": "6321b3e4",
   "metadata": {},
   "source": [
    "### LightGBM (Light Gradient Boosting Machine)\n",
    "- What is LightGBM?\n",
    "\n",
    "`LightGBM` is an open-source, high-performance gradient boosting framework developed by Microsoft. It builds decision trees in a leaf-wise manner rather than a level-wise manner, which generally leads to faster training and higher accuracy. It uses histogram-based algorithms for faster splitting and has specialized features like Gradient-Based One-Side Sampling (GOSS) and Exclusive Feature Bundling (EFB) to speed up training on large datasets efficiently. LightGBM supports both classification and regression tasks.\n",
    "\n",
    "**Key features:**\n",
    "\n",
    "  - Leaf-wise tree growth for better accuracy\n",
    "\n",
    "  - Histogram-based splits for speed and memory efficiency\n",
    "\n",
    "  - GOSS to focus training on samples with large gradients\n",
    "\n",
    "  - EFB to reduce dimensionality by bundling features\n",
    "\n",
    "  - Supports GPU acceleration\n",
    "\n",
    "Example usage (regression with Python LightGBM):"
   ]
  },
  {
   "cell_type": "code",
   "execution_count": 3,
   "id": "b8601efe",
   "metadata": {},
   "outputs": [
    {
     "name": "stdout",
     "output_type": "stream",
     "text": [
      "RMSE: 0.23285525605518215\n"
     ]
    }
   ],
   "source": [
    "import lightgbm as lgb\n",
    "from sklearn.datasets import fetch_california_housing\n",
    "from sklearn.model_selection import train_test_split\n",
    "from sklearn.metrics import mean_squared_error\n",
    "\n",
    "# Load dataset\n",
    "data = fetch_california_housing(as_frame=True)\n",
    "X_train, X_test, y_train, y_test = train_test_split(data.data, data.target, test_size=0.2, random_state=42)\n",
    "\n",
    "# Create LightGBM dataset format\n",
    "train_data = lgb.Dataset(X_train, label=y_train)\n",
    "test_data = lgb.Dataset(X_test, label=y_test, reference=train_data)\n",
    "\n",
    "# Set parameters\n",
    "params = {\n",
    "    'boosting_type': 'gbdt',\n",
    "    'objective': 'regression',\n",
    "    'metric': 'rmse',\n",
    "    'num_leaves': 31,\n",
    "    'learning_rate': 0.05,\n",
    "    'feature_fraction': 0.9,\n",
    "    'bagging_fraction': 0.8,\n",
    "    'bagging_freq': 5,\n",
    "    'verbose': 0\n",
    "}\n",
    "\n",
    "# Train model\n",
    "num_rounds = 100\n",
    "model = lgb.train(params, train_data, num_rounds, valid_sets=[test_data])\n",
    "\n",
    "# Predict and evaluate\n",
    "y_pred = model.predict(X_test, num_iteration=model.best_iteration)\n",
    "rmse = mean_squared_error(y_test, y_pred)\n",
    "print(f'RMSE: {rmse}')\n"
   ]
  },
  {
   "cell_type": "markdown",
   "id": "acd39706",
   "metadata": {},
   "source": [
    "### CatBoost (Categorical Boosting)\n",
    "- What is CatBoost?\n",
    "\n",
    "`CatBoost` is a gradient boosting framework developed by Yandex that handles categorical features natively without the need for extensive preprocessing like one-hot encoding. It uses ordered boosting, which avoids prediction shifts and overfitting, and offers automatic handling of categorical variables, making it extremely effective for datasets with mixed categorical and numerical features. CatBoost is also competitive in speed and accuracy and supports GPU acceleration.\n",
    "\n",
    "**Key features:**\n",
    "\n",
    "  - Native categorical feature support\n",
    "\n",
    "  - Ordered boosting to reduce overfitting\n",
    "\n",
    "  - Efficient handling of missing data\n",
    "\n",
    "  - Easy hyperparameter tuning\n",
    "\n",
    "  - Supports classification, regression, ranking, and multi-class problems\n",
    "\n",
    "Example usage (classification with Python CatBoost):"
   ]
  },
  {
   "cell_type": "code",
   "execution_count": null,
   "id": "a1cc1223",
   "metadata": {},
   "outputs": [
    {
     "name": "stderr",
     "output_type": "stream",
     "text": [
      "C:\\Users\\win10\\AppData\\Local\\Temp\\ipykernel_9072\\1021598818.py:16: SettingWithCopyWarning: \n",
      "A value is trying to be set on a copy of a slice from a DataFrame.\n",
      "Try using .loc[row_indexer,col_indexer] = value instead\n",
      "\n",
      "See the caveats in the documentation: https://pandas.pydata.org/pandas-docs/stable/user_guide/indexing.html#returning-a-view-versus-a-copy\n",
      "  X[col] = X[col].astype('object').fillna('Unknown')\n",
      "C:\\Users\\win10\\AppData\\Local\\Temp\\ipykernel_9072\\1021598818.py:16: SettingWithCopyWarning: \n",
      "A value is trying to be set on a copy of a slice from a DataFrame.\n",
      "Try using .loc[row_indexer,col_indexer] = value instead\n",
      "\n",
      "See the caveats in the documentation: https://pandas.pydata.org/pandas-docs/stable/user_guide/indexing.html#returning-a-view-versus-a-copy\n",
      "  X[col] = X[col].astype('object').fillna('Unknown')\n",
      "C:\\Users\\win10\\AppData\\Local\\Temp\\ipykernel_9072\\1021598818.py:16: SettingWithCopyWarning: \n",
      "A value is trying to be set on a copy of a slice from a DataFrame.\n",
      "Try using .loc[row_indexer,col_indexer] = value instead\n",
      "\n",
      "See the caveats in the documentation: https://pandas.pydata.org/pandas-docs/stable/user_guide/indexing.html#returning-a-view-versus-a-copy\n",
      "  X[col] = X[col].astype('object').fillna('Unknown')\n"
     ]
    },
    {
     "name": "stdout",
     "output_type": "stream",
     "text": [
      "0:\tlearn: 0.6447736\ttest: 0.6439227\tbest: 0.6439227 (0)\ttotal: 117ms\tremaining: 1m 57s\n",
      "100:\tlearn: 0.2907311\ttest: 0.2855474\tbest: 0.2855474 (100)\ttotal: 6.37s\tremaining: 56.7s\n",
      "200:\tlearn: 0.2774430\ttest: 0.2757754\tbest: 0.2757754 (200)\ttotal: 12.5s\tremaining: 49.6s\n",
      "300:\tlearn: 0.2689627\ttest: 0.2705039\tbest: 0.2704879 (299)\ttotal: 18.5s\tremaining: 42.9s\n",
      "400:\tlearn: 0.2645073\ttest: 0.2687909\tbest: 0.2687909 (400)\ttotal: 25.3s\tremaining: 37.9s\n",
      "500:\tlearn: 0.2607042\ttest: 0.2679836\tbest: 0.2679836 (500)\ttotal: 33.9s\tremaining: 33.8s\n",
      "600:\tlearn: 0.2570087\ttest: 0.2671981\tbest: 0.2671981 (600)\ttotal: 43.1s\tremaining: 28.6s\n",
      "700:\tlearn: 0.2538711\ttest: 0.2670646\tbest: 0.2669976 (666)\ttotal: 50.9s\tremaining: 21.7s\n",
      "800:\tlearn: 0.2509253\ttest: 0.2665801\tbest: 0.2665433 (788)\ttotal: 59.4s\tremaining: 14.7s\n",
      "900:\tlearn: 0.2482663\ttest: 0.2664843\tbest: 0.2664843 (900)\ttotal: 1m 7s\tremaining: 7.38s\n",
      "999:\tlearn: 0.2456063\ttest: 0.2661571\tbest: 0.2661421 (995)\ttotal: 1m 14s\tremaining: 0us\n",
      "\n",
      "bestTest = 0.266142118\n",
      "bestIteration = 995\n",
      "\n",
      "Shrink model to first 996 iterations.\n",
      "Accuracy: 0.8796192036032348\n"
     ]
    }
   ],
   "source": [
    "from catboost import CatBoostClassifier\n",
    "from sklearn.datasets import fetch_openml\n",
    "from sklearn.model_selection import train_test_split\n",
    "from sklearn.metrics import accuracy_score\n",
    "\n",
    "# Load dataset (example: Adult dataset with categorical features)\n",
    "data = fetch_openml(name='adult', version=2, as_frame=True)\n",
    "X = data.data\n",
    "y = data.target\n",
    "\n",
    "# Specify categorical feature indices (example: categorical columns for Adult dataset)\n",
    "cat_features = ['workclass', 'education', 'marital-status', 'occupation', 'relationship', 'race', 'sex', 'native-country']\n",
    "\n",
    "# Fill NaN values in specified categorical columns with a string placeholder\n",
    "for col in cat_features:\n",
    "    if X[col].isnull().any():\n",
    "        X[col] = X[col].astype('object').fillna('Unknown')\n",
    "\n",
    "# Split dataset\n",
    "X_train, X_test, y_train, y_test = train_test_split(X, y, test_size=0.2, random_state=42)\n",
    "\n",
    "# Initialize CatBoost model\n",
    "model = CatBoostClassifier(iterations=1000, learning_rate=0.05, depth=6, verbose=100)\n",
    "\n",
    "# Train model with categorical features specified\n",
    "model.fit(X_train, y_train, cat_features=cat_features, eval_set=(X_test, y_test))\n",
    "\n",
    "# Predict and evaluate\n",
    "y_pred = model.predict(X_test)\n",
    "accuracy = accuracy_score(y_test, y_pred)\n",
    "print(f'Accuracy: {accuracy}')\n"
   ]
  },
  {
   "cell_type": "code",
   "execution_count": null,
   "id": "3411ba77",
   "metadata": {},
   "outputs": [],
   "source": []
  }
 ],
 "metadata": {
  "kernelspec": {
   "display_name": "Python 3",
   "language": "python",
   "name": "python3"
  },
  "language_info": {
   "codemirror_mode": {
    "name": "ipython",
    "version": 3
   },
   "file_extension": ".py",
   "mimetype": "text/x-python",
   "name": "python",
   "nbconvert_exporter": "python",
   "pygments_lexer": "ipython3",
   "version": "3.11.9"
  }
 },
 "nbformat": 4,
 "nbformat_minor": 5
}
