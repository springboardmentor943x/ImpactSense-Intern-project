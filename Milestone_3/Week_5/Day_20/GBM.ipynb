{
 "cells": [
  {
   "cell_type": "markdown",
   "id": "919ec664",
   "metadata": {},
   "source": [
    "### Gradient Boosting Machine (GBM)\n",
    "\n",
    "`GBM` is an ensemble machine learning technique that builds models sequentially. Each new model tries to correct errors made by previous models by focusing on residual errors.\n",
    "\n",
    "- Key features:\n",
    "  - Combines weak learners (typically decision trees) sequentially\n",
    "  - Optimizes a loss function using gradient descent\n",
    "  - Effective for regression and classification tasks\n",
    "  - Often delivers superior performance over base models such as decision trees or random forests\n",
    "\n",
    "Below is a GBM implementation using scikit-learn's `GradientBoostingRegressor`."
   ]
  },
  {
   "cell_type": "code",
   "execution_count": 3,
   "id": "a1ce1d9c",
   "metadata": {},
   "outputs": [
    {
     "name": "stdout",
     "output_type": "stream",
     "text": [
      "Mean Absolute Error (MAE): 0.6810\n",
      "Mean Squared Error (MSE): 0.8941\n",
      "Cross-validated MAE: 0.7183\n"
     ]
    }
   ],
   "source": [
    "import pandas as pd\n",
    "import numpy as np\n",
    "from sklearn.ensemble import GradientBoostingRegressor\n",
    "from sklearn.model_selection import train_test_split, cross_val_score\n",
    "from sklearn.metrics import mean_absolute_error, mean_squared_error\n",
    "\n",
    "# Load data\n",
    "dataset = 'C:/Users/win10/Desktop/ImpactSense-Intern-project/data/preprocessed_earthquake_data.csv'\n",
    "data = pd.read_csv(dataset)\n",
    "\n",
    "# Define target and categorical features\n",
    "target = 'Magnitude'\n",
    "categorical_cols = ['Type', 'Magnitude Type', 'Source', 'Status']\n",
    "\n",
    "# Prepare features and target variable\n",
    "X = data.drop(columns=[target])\n",
    "y = data[target]\n",
    "\n",
    "# One-hot encode categorical columns\n",
    "X = pd.get_dummies(X, columns=categorical_cols, drop_first=True)\n",
    "\n",
    "# Train-test split\n",
    "X_train, X_test, y_train, y_test = train_test_split(X, y, test_size=0.2, random_state=42)\n",
    "\n",
    "# Initialize GBM model\n",
    "gbm = GradientBoostingRegressor(\n",
    "    n_estimators=100,\n",
    "    learning_rate=0.1,\n",
    "    max_depth=3,\n",
    "    random_state=42\n",
    ")\n",
    "\n",
    "# Train model\n",
    "gbm.fit(X_train, y_train)\n",
    "\n",
    "# Predict on test data\n",
    "y_pred = gbm.predict(X_test)\n",
    "\n",
    "# Evaluate performance\n",
    "mae = mean_absolute_error(y_test, y_pred)\n",
    "mse = mean_squared_error(y_test, y_pred)\n",
    "\n",
    "print(f\"Mean Absolute Error (MAE): {mae:.4f}\")\n",
    "print(f\"Mean Squared Error (MSE): {mse:.4f}\")\n",
    "\n",
    "# Cross-validation for robustness\n",
    "cv_scores = cross_val_score(gbm, X, y, cv=5, scoring='neg_mean_absolute_error')\n",
    "print(f\"Cross-validated MAE: {-np.mean(cv_scores):.4f}\")"
   ]
  },
  {
   "cell_type": "markdown",
   "id": "364277f6",
   "metadata": {},
   "source": [
    "- **Task:** Understand and apply Gradient Boosting Machine to predict a categorical target variable, evaluate performance, and interpret results and notedown your observations."
   ]
  },
  {
   "cell_type": "code",
   "execution_count": null,
   "id": "93cb5176",
   "metadata": {},
   "outputs": [],
   "source": [
    "from sklearn.ensemble import GradientBoostingClassifier\n",
    "from sklearn.metrics import accuracy_score\n",
    "\n",
    "target = ['Status_Reviewed']\n",
    "categorical_cols = ['Type', 'Magnitude Type', 'Source', 'Status']\n",
    "X = data.drop(columns=target)\n",
    "y = data[target]\n",
    "\n",
    "# Encode the categorical features\n",
    "from sklearn.preprocessing import LabelEncoder\n",
    "for col in categorical_cols:\n",
    "  if X[col].dtype == 'object':\n",
    "    le = LabelEncoder()\n",
    "    X[col] = le.fit_transform(X[col])\n",
    "\n",
    "# Split dataset into train and test sets\n",
    "X_train, X_test, y_train, y_test = train_test_split(X, y, test_size=0.2, random_state=42)\n",
    "\n",
    "gbm = GradientBoostingClassifier(\n",
    "    n_estimators=100,\n",
    "    learning_rate=0.1,\n",
    "    max_depth=3,\n",
    "    random_state=42\n",
    ")\n",
    "\n",
    "gbm.fit(X_train, y_train)\n",
    "\n",
    "y_pred = gbm.predict(X_test)\n",
    "\n",
    "accuracy = accuracy_score(y_test, y_pred)\n",
    "print(f\"Accuracy: {accuracy}\")\n"
   ]
  }
 ],
 "metadata": {
  "kernelspec": {
   "display_name": "Python 3",
   "language": "python",
   "name": "python3"
  },
  "language_info": {
   "codemirror_mode": {
    "name": "ipython",
    "version": 3
   },
   "file_extension": ".py",
   "mimetype": "text/x-python",
   "name": "python",
   "nbconvert_exporter": "python",
   "pygments_lexer": "ipython3",
   "version": "3.11.9"
  }
 },
 "nbformat": 4,
 "nbformat_minor": 5
}
