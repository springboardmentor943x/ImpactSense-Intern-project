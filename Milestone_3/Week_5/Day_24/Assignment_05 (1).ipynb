{
  "nbformat": 4,
  "nbformat_minor": 0,
  "metadata": {
    "colab": {
      "provenance": []
    },
    "kernelspec": {
      "name": "python3",
      "display_name": "Python 3"
    },
    "language_info": {
      "name": "python"
    }
  },
  "cells": [
    {
      "cell_type": "markdown",
      "source": [
        "Setup and Data Loading"
      ],
      "metadata": {
        "id": "pjtEYrfuKnvv"
      }
    },
    {
      "cell_type": "code",
      "execution_count": 2,
      "metadata": {
        "colab": {
          "base_uri": "https://localhost:8080/"
        },
        "id": "aNnynZj3Kkic",
        "outputId": "1cc53da8-2c5d-4283-fcb8-16850e1f092b"
      },
      "outputs": [
        {
          "output_type": "stream",
          "name": "stdout",
          "text": [
            "Training set shape: (800, 20)\n",
            "Testing set shape: (200, 20)\n"
          ]
        }
      ],
      "source": [
        "import pandas as pd\n",
        "import numpy as np\n",
        "import lightgbm as lgbm\n",
        "from sklearn.model_selection import train_test_split, GridSearchCV\n",
        "from sklearn.svm import SVC\n",
        "from sklearn.preprocessing import StandardScaler\n",
        "from sklearn.pipeline import Pipeline\n",
        "from sklearn.metrics import classification_report, confusion_matrix, accuracy_score, precision_score, recall_score, f1_score\n",
        "import seaborn as sns\n",
        "import matplotlib.pyplot as plt\n",
        "import joblib\n",
        "from sklearn.datasets import make_classification\n",
        "X, y = make_classification(n_samples=1000, n_features=20, n_informative=10, n_redundant=5, random_state=42)\n",
        "X_train, X_test, y_train, y_test = train_test_split(X, y, test_size=0.2, random_state=42, stratify=y)\n",
        "print(f\"Training set shape: {X_train.shape}\")\n",
        "print(f\"Testing set shape: {X_test.shape}\")"
      ]
    },
    {
      "cell_type": "markdown",
      "source": [
        "Build, Train, and Tune the LightGBM Classifier\n"
      ],
      "metadata": {
        "id": "uwq-hJy2Sl2g"
      }
    },
    {
      "cell_type": "code",
      "source": [
        "print(\"\\n--- Training LightGBM Classifier ---\")\n",
        "lgbm = lgbm.LGBMClassifier(random_state=42)\n",
        "param_grid_lgbm = {\n",
        "    'n_estimators': [100, 200],\n",
        "    'learning_rate': [0.05, 0.1],\n",
        "    'num_leaves': [31, 50],\n",
        "    'max_depth': [-1, 10]\n",
        "}\n",
        "grid_lgbm = GridSearchCV(estimator=lgbm, param_grid=param_grid_lgbm, cv=5, scoring='accuracy', n_jobs=-1, verbose=1)\n",
        "grid_lgbm.fit(X_train, y_train)\n",
        "best_lgbm = grid_lgbm.best_estimator_\n",
        "print(\"\\nBest LightGBM Parameters:\", grid_lgbm.best_params_)\n",
        "print(f\"Best Cross-Validation Accuracy: {grid_lgbm.best_score_:.4f}\")"
      ],
      "metadata": {
        "id": "nkOxN70xSp74",
        "colab": {
          "base_uri": "https://localhost:8080/"
        },
        "outputId": "6f43bb82-08e9-46f6-c9fc-2060e3740910"
      },
      "execution_count": 4,
      "outputs": [
        {
          "output_type": "stream",
          "name": "stdout",
          "text": [
            "\n",
            "--- Training LightGBM Classifier ---\n",
            "Fitting 5 folds for each of 16 candidates, totalling 80 fits\n",
            "[LightGBM] [Info] Number of positive: 402, number of negative: 398\n",
            "[LightGBM] [Info] Auto-choosing col-wise multi-threading, the overhead of testing was 0.000339 seconds.\n",
            "You can set `force_col_wise=true` to remove the overhead.\n",
            "[LightGBM] [Info] Total Bins 5100\n",
            "[LightGBM] [Info] Number of data points in the train set: 800, number of used features: 20\n",
            "[LightGBM] [Info] [binary:BoostFromScore]: pavg=0.502500 -> initscore=0.010000\n",
            "[LightGBM] [Info] Start training from score 0.010000\n",
            "[LightGBM] [Warning] No further splits with positive gain, best gain: -inf\n",
            "[LightGBM] [Warning] No further splits with positive gain, best gain: -inf\n",
            "[LightGBM] [Warning] No further splits with positive gain, best gain: -inf\n",
            "[LightGBM] [Warning] No further splits with positive gain, best gain: -inf\n",
            "[LightGBM] [Warning] No further splits with positive gain, best gain: -inf\n",
            "\n",
            "Best LightGBM Parameters: {'learning_rate': 0.1, 'max_depth': -1, 'n_estimators': 100, 'num_leaves': 31}\n",
            "Best Cross-Validation Accuracy: 0.9213\n"
          ]
        }
      ]
    },
    {
      "cell_type": "markdown",
      "source": [
        "Build, Train, and Tune the SVM Classifier"
      ],
      "metadata": {
        "id": "x0T_lfd6V7rO"
      }
    },
    {
      "cell_type": "code",
      "source": [
        "print(\"\\n--- Training SVM Classifier ---\")\n",
        "pipeline_svm = Pipeline([\n",
        "    ('scaler', StandardScaler()),\n",
        "    ('svm', SVC(probability=True, random_state=42))\n",
        "])\n",
        "param_grid_svm = {\n",
        "    'svm__C': [0.1, 1, 10],\n",
        "    'svm__gamma': ['scale', 'auto', 0.1],\n",
        "    'svm__kernel': ['rbf', 'linear']\n",
        "}\n",
        "grid_svm = GridSearchCV(estimator=pipeline_svm, param_grid=param_grid_svm, cv=5, scoring='accuracy', n_jobs=-1, verbose=1)\n",
        "grid_svm.fit(X_train, y_train)\n",
        "best_svm = grid_svm.best_estimator_\n",
        "print(\"\\nBest SVM Parameters:\", grid_svm.best_params_)\n",
        "print(f\"Best Cross-Validation Accuracy: {grid_svm.best_score_:.4f}\")"
      ],
      "metadata": {
        "colab": {
          "base_uri": "https://localhost:8080/"
        },
        "id": "xjky0a9cV4Pn",
        "outputId": "b7d3d79e-a4db-4095-81e6-0681a329a0b0"
      },
      "execution_count": 6,
      "outputs": [
        {
          "output_type": "stream",
          "name": "stdout",
          "text": [
            "\n",
            "--- Training SVM Classifier ---\n",
            "Fitting 5 folds for each of 18 candidates, totalling 90 fits\n",
            "\n",
            "Best SVM Parameters: {'svm__C': 1, 'svm__gamma': 0.1, 'svm__kernel': 'rbf'}\n",
            "Best Cross-Validation Accuracy: 0.9463\n"
          ]
        }
      ]
    },
    {
      "cell_type": "markdown",
      "source": [
        "Evaluate and Compare Models"
      ],
      "metadata": {
        "id": "l60HOJGNWGsG"
      }
    },
    {
      "cell_type": "code",
      "source": [
        "y_pred_lgbm = best_lgbm.predict(X_test)\n",
        "y_pred_svm = best_svm.predict(X_test)\n",
        "print(\"\\n--- LightGBM Test Set Evaluation ---\")\n",
        "print(f\"Accuracy: {accuracy_score(y_test, y_pred_lgbm):.4f}\")\n",
        "print(\"Classification Report:\")\n",
        "print(classification_report(y_test, y_pred_lgbm))\n",
        "print(\"\\n--- SVM Test Set Evaluation ---\")\n",
        "print(f\"Accuracy: {accuracy_score(y_test, y_pred_svm):.4f}\")\n",
        "print(\"Classification Report:\")\n",
        "print(classification_report(y_test, y_pred_svm))\n",
        "fig, axes = plt.subplots(1, 2, figsize=(14, 5))\n",
        "fig.suptitle('Confusion Matrices', fontsize=16)\n",
        "cm_lgbm = confusion_matrix(y_test, y_pred_lgbm)\n",
        "sns.heatmap(cm_lgbm, annot=True, fmt='d', cmap='Blues', ax=axes[0])\n",
        "axes[0].set_title('LightGBM')\n",
        "axes[0].set_xlabel('Predicted')\n",
        "axes[0].set_ylabel('Actual')\n",
        "cm_svm = confusion_matrix(y_test, y_pred_svm)\n",
        "sns.heatmap(cm_svm, annot=True, fmt='d', cmap='Oranges', ax=axes[1])\n",
        "axes[1].set_title('SVM')\n",
        "axes[1].set_xlabel('Predicted')\n",
        "axes[1].set_ylabel('Actual')\n",
        "\n",
        "plt.tight_layout(rect=[0, 0, 1, 0.96])\n",
        "plt.show()"
      ],
      "metadata": {
        "colab": {
          "base_uri": "https://localhost:8080/",
          "height": 998
        },
        "id": "X0oJAc18WGPm",
        "outputId": "dd6ccdce-0981-47e9-8f9b-e7638f9dd878"
      },
      "execution_count": 7,
      "outputs": [
        {
          "output_type": "stream",
          "name": "stderr",
          "text": [
            "/usr/local/lib/python3.12/dist-packages/sklearn/utils/validation.py:2739: UserWarning: X does not have valid feature names, but LGBMClassifier was fitted with feature names\n",
            "  warnings.warn(\n"
          ]
        },
        {
          "output_type": "stream",
          "name": "stdout",
          "text": [
            "\n",
            "--- LightGBM Test Set Evaluation ---\n",
            "Accuracy: 0.9200\n",
            "Classification Report:\n",
            "              precision    recall  f1-score   support\n",
            "\n",
            "           0       0.94      0.90      0.92        99\n",
            "           1       0.90      0.94      0.92       101\n",
            "\n",
            "    accuracy                           0.92       200\n",
            "   macro avg       0.92      0.92      0.92       200\n",
            "weighted avg       0.92      0.92      0.92       200\n",
            "\n",
            "\n",
            "--- SVM Test Set Evaluation ---\n",
            "Accuracy: 0.9400\n",
            "Classification Report:\n",
            "              precision    recall  f1-score   support\n",
            "\n",
            "           0       0.95      0.93      0.94        99\n",
            "           1       0.93      0.95      0.94       101\n",
            "\n",
            "    accuracy                           0.94       200\n",
            "   macro avg       0.94      0.94      0.94       200\n",
            "weighted avg       0.94      0.94      0.94       200\n",
            "\n"
          ]
        },
        {
          "output_type": "display_data",
          "data": {
            "text/plain": [
              "<Figure size 1400x500 with 4 Axes>"
            ],
            "image/png": "[encoded data removed]"
          },
          "metadata": {}
        }
      ]
    },
    {
      "cell_type": "markdown",
      "source": [
        " Save the Trained Models"
      ],
      "metadata": {
        "id": "NTGm9ZzDWSM2"
      }
    },
    {
      "cell_type": "code",
      "source": [
        "joblib.dump(best_lgbm, 'lightgbm_earthquake_model.pkl')\n",
        "joblib.dump(best_svm, 'svm_earthquake_model.pkl')\n",
        "\n",
        "print(\"\\nModels saved successfully:\")\n",
        "print(\" - lightgbm_earthquake_model.pkl\")\n",
        "print(\" - svm_earthquake_model.pkl\")"
      ],
      "metadata": {
        "colab": {
          "base_uri": "https://localhost:8080/"
        },
        "id": "4qXqRz1WWSn3",
        "outputId": "1362fe5d-3d76-49b3-aa7e-ac23ad57eafe"
      },
      "execution_count": 8,
      "outputs": [
        {
          "output_type": "stream",
          "name": "stdout",
          "text": [
            "\n",
            "Models saved successfully:\n",
            " - lightgbm_earthquake_model.pkl\n",
            " - svm_earthquake_model.pkl\n"
          ]
        }
      ]
    }
  ]
}