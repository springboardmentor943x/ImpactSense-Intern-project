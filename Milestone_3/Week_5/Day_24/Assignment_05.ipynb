{
 "cells": [
  {
   "cell_type": "markdown",
   "id": "ed56043b",
   "metadata": {},
   "source": [
    "### Assignment-05"
   ]
  },
  {
   "cell_type": "markdown",
   "id": "a862a27f",
   "metadata": {},
   "source": [
    "- Build, train, and save `LightGBM` and `SVM` classifiers with integrated cross-validation and hyperparameter tuning & do evaluation of these models using appropriate metrics, compare their performance, and identify which model performs best with reasoning.\n",
    "\n",
    "NOTE: Use the preprocessed dataset of earthquake predictions."
   ]
  },
  {
   "cell_type": "code",
   "execution_count": null,
   "id": "e01ad474",
   "metadata": {
    "vscode": {
     "languageId": "plaintext"
    }
   },
   "outputs": [],
   "source": []
  }
 ],
 "metadata": {
  "language_info": {
   "name": "python"
  }
 },
 "nbformat": 4,
 "nbformat_minor": 5
}
