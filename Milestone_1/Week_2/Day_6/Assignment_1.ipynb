{
 "cells": [
  {
   "cell_type": "markdown",
   "id": "9480e75f",
   "metadata": {},
   "source": [
    "## Practice on Pandas and Data Visualization"
   ]
  },
  {
   "cell_type": "markdown",
   "id": "ac1b8d71",
   "metadata": {},
   "source": [
    "- 1. What is the overall survival rate of passengers aboard the Titanic?"
   ]
  },
  {
   "cell_type": "code",
   "execution_count": null,
   "id": "58cfeb34",
   "metadata": {},
   "outputs": [],
   "source": []
  },
  {
   "cell_type": "markdown",
   "id": "4af870c5",
   "metadata": {},
   "source": [
    "- 2. How does the survival rate vary by passenger class (Pclass)?"
   ]
  },
  {
   "cell_type": "code",
   "execution_count": null,
   "id": "ebd91cba",
   "metadata": {},
   "outputs": [],
   "source": []
  },
  {
   "cell_type": "markdown",
   "id": "e53c56f9",
   "metadata": {},
   "source": [
    "- 3. What is the average age of passengers who survived vs. those who did not survive?"
   ]
  },
  {
   "cell_type": "code",
   "execution_count": null,
   "id": "43de2265",
   "metadata": {},
   "outputs": [],
   "source": []
  },
  {
   "cell_type": "markdown",
   "id": "60c7d6fd",
   "metadata": {},
   "source": [
    "- 4. How many passengers embarked from each port (Embarked), and what are their survival rates?"
   ]
  },
  {
   "cell_type": "code",
   "execution_count": null,
   "id": "092ea06a",
   "metadata": {},
   "outputs": [],
   "source": []
  },
  {
   "cell_type": "markdown",
   "id": "4324cd1e",
   "metadata": {},
   "source": [
    "- 5. What is the distribution of fare prices paid by passengers, and does fare impact survival chances?"
   ]
  },
  {
   "cell_type": "code",
   "execution_count": null,
   "id": "284ef962",
   "metadata": {},
   "outputs": [],
   "source": []
  },
  {
   "cell_type": "markdown",
   "id": "e8699cfb",
   "metadata": {},
   "source": [
    "- 6. Plot the count of passengers by passenger class (Pclass)."
   ]
  },
  {
   "cell_type": "code",
   "execution_count": null,
   "id": "80256afe",
   "metadata": {},
   "outputs": [],
   "source": []
  },
  {
   "cell_type": "markdown",
   "id": "e854b602",
   "metadata": {},
   "source": [
    "- 7. Visualize the survival rate with respect to gender using a bar chart."
   ]
  },
  {
   "cell_type": "code",
   "execution_count": null,
   "id": "24f5ff44",
   "metadata": {},
   "outputs": [],
   "source": []
  },
  {
   "cell_type": "markdown",
   "id": "520a8b10",
   "metadata": {},
   "source": [
    "- 8. Show the age distribution of passengers using a histogram or KDE plot."
   ]
  },
  {
   "cell_type": "code",
   "execution_count": null,
   "id": "367896e4",
   "metadata": {},
   "outputs": [],
   "source": []
  },
  {
   "cell_type": "code",
   "execution_count": null,
   "id": "db28e49a",
   "metadata": {},
   "outputs": [],
   "source": []
  },
  {
   "cell_type": "markdown",
   "id": "d40e0364",
   "metadata": {},
   "source": [
    "- 9. Create a boxplot comparing fares across different passenger classes."
   ]
  },
  {
   "cell_type": "code",
   "execution_count": null,
   "id": "dafc73a2",
   "metadata": {},
   "outputs": [],
   "source": []
  },
  {
   "cell_type": "markdown",
   "id": "3c8d9732",
   "metadata": {},
   "source": [
    "- 10. Visualize survival count by embarkation port (Embarked) with a stacked bar chart."
   ]
  },
  {
   "cell_type": "code",
   "execution_count": null,
   "id": "b44f881f",
   "metadata": {},
   "outputs": [],
   "source": []
  },
  {
   "cell_type": "markdown",
   "id": "4ff83648",
   "metadata": {},
   "source": [
    "- 11. Display a heatmap of the correlation matrix of numerical features in the dataset."
   ]
  },
  {
   "cell_type": "code",
   "execution_count": null,
   "id": "d6fe4eb1",
   "metadata": {},
   "outputs": [],
   "source": []
  },
  {
   "cell_type": "code",
   "execution_count": null,
   "id": "500e9d61",
   "metadata": {},
   "outputs": [],
   "source": []
  }
 ],
 "metadata": {
  "kernelspec": {
   "display_name": "Python 3",
   "language": "python",
   "name": "python3"
  },
  "language_info": {
   "name": "python",
   "version": "3.11.9"
  }
 },
 "nbformat": 4,
 "nbformat_minor": 5
}
