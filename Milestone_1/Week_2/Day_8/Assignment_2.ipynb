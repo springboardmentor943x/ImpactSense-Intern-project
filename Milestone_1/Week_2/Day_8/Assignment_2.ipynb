{
 "cells": [
  {
   "cell_type": "markdown",
   "id": "f3e1277a",
   "metadata": {},
   "source": [
    "# Practise"
   ]
  },
  {
   "cell_type": "markdown",
   "id": "05a3a49b",
   "metadata": {},
   "source": [
    "### Dataset for practise"
   ]
  },
  {
   "cell_type": "code",
   "execution_count": null,
   "id": "83092f64",
   "metadata": {},
   "outputs": [],
   "source": [
    "import pandas as pd\n",
    "import numpy as np\n",
    "\n",
    "np.random.seed(123)\n",
    "\n",
    "# Generate numerical columns with NaN values\n",
    "num1 = np.random.randn(500)\n",
    "num2 = np.random.uniform(10, 50, size=500)\n",
    "num3 = np.random.randint(1, 6, size=500).astype('float')\n",
    "num1[np.random.choice(500, 60, replace=False)] = np.nan\n",
    "num2[np.random.choice(500, 60, replace=False)] = np.nan\n",
    "num3[np.random.choice(500, 60, replace=False)] = np.nan\n",
    "\n",
    "# Generate messy categorical/text columns\n",
    "cat1 = np.random.choice(['apple', 'banana', 'grape', np.nan], size=500, p=[0.3, 0.3, 0.3, 0.1])\n",
    "cat2 = np.random.choice(['A', 'B', 'C', 'D'], size=500)\n",
    "cat3 = np.random.choice(['Yes', 'No', np.nan], size=500, p=[0.45, 0.45, 0.10])\n",
    "\n",
    "# Combine into DataFrame and add untidiness\n",
    "df_untidy = pd.DataFrame({\n",
    "    'Score': num1,\n",
    "    'Height_cm': num2,\n",
    "    'Rating': num3,\n",
    "    'Fruit': cat1,\n",
    "    'Group': cat2,\n",
    "    'IsActive': cat3\n",
    "})\n",
    "\n",
    "# Add untidy issues:\n",
    "df_untidy.loc[df_untidy.sample(frac=0.15, random_state=1).index, 'Height_cm'] = \\\n",
    "    df_untidy['Height_cm'].dropna().astype(str) + 'cm'   # Mix data type in Height_cm\n",
    "\n",
    "df_untidy.loc[df_untidy.sample(frac=0.15, random_state=2).index, 'Rating'] = \\\n",
    "    'Rating: ' + df_untidy['Rating'].dropna().astype(str) # Prefix string for some ratings\n",
    "\n",
    "df_untidy.head()\n"
   ]
  },
  {
   "cell_type": "markdown",
   "id": "6c48871f",
   "metadata": {},
   "source": [
    "- Q1. Identify columns with missing values and demonstrate at least two methods for imputing or filling these missing values (e.g., mean for numerics, mode for categoricals)."
   ]
  },
  {
   "cell_type": "code",
   "execution_count": null,
   "id": "24181f2c",
   "metadata": {},
   "outputs": [],
   "source": []
  },
  {
   "cell_type": "markdown",
   "id": "2cca2d9b",
   "metadata": {},
   "source": [
    "- Q2.  Identify columns with non-numeric (categorical) data and convert them into a numeric format using encoding techniques such as one-hot encoding or label encoding."
   ]
  },
  {
   "cell_type": "code",
   "execution_count": null,
   "id": "710a8c72",
   "metadata": {},
   "outputs": [],
   "source": []
  },
  {
   "cell_type": "markdown",
   "id": "712a6d0e",
   "metadata": {},
   "source": [
    "- Q3. Detect any columns in the DataFrame that contain mixed data types (such as numbers stored as strings or strings with prefixes). Write code to clean and convert these columns to appropriate, consistent types."
   ]
  },
  {
   "cell_type": "code",
   "execution_count": null,
   "id": "d5f4ce74",
   "metadata": {},
   "outputs": [],
   "source": []
  },
  {
   "cell_type": "markdown",
   "id": "2018da67",
   "metadata": {},
   "source": [
    "- Q4. Apply scaling and/or normalization techniques (such as Min-Max Scaling and Standardization) to the numerical columns to prepare them for downstream machine learning tasks."
   ]
  },
  {
   "cell_type": "code",
   "execution_count": null,
   "id": "72d4a1cb",
   "metadata": {},
   "outputs": [],
   "source": []
  },
  {
   "cell_type": "markdown",
   "id": "8f55d1a5",
   "metadata": {},
   "source": [
    "- Q5. Write a function to check for and report any remaining inconsistencies (missing values, mixed types, out-of-range values) in the cleaned DataFrame. Validate that the preprocessing steps have successfully prepared the data for analysis."
   ]
  },
  {
   "cell_type": "markdown",
   "id": "128fbd47",
   "metadata": {},
   "source": []
  }
 ],
 "metadata": {
  "kernelspec": {
   "display_name": "Python 3",
   "language": "python",
   "name": "python3"
  },
  "language_info": {
   "name": "python",
   "version": "3.11.9"
  }
 },
 "nbformat": 4,
 "nbformat_minor": 5
}
