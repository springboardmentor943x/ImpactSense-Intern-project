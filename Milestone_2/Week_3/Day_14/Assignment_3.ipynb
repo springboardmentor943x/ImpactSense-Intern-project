{
 "cells": [
  {
   "cell_type": "markdown",
   "id": "9200bf5f",
   "metadata": {},
   "source": [
    "### Assignment-3 \n",
    "- Compare Linear Regression Models with Default vs. Custom Parameters for Earthquake Magnitude Prediction\n",
    "#### Objective\n",
    "  - Train and analyze two linear regression models to predict earthquake Magnitude: one with default parameters and one with custom-tuned parameters. Compare their performances and interpret findings, and last provide a summary report."
   ]
  }
 ],
 "metadata": {
  "language_info": {
   "name": "python"
  }
 },
 "nbformat": 4,
 "nbformat_minor": 5
}
