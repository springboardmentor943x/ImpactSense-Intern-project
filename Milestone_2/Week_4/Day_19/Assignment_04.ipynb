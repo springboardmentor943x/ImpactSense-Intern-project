{
  "nbformat": 4,
  "nbformat_minor": 0,
  "metadata": {
    "colab": {
      "provenance": []
    },
    "kernelspec": {
      "name": "python3",
      "display_name": "Python 3"
    },
    "language_info": {
      "name": "python"
    }
  },
  "cells": [
    {
      "cell_type": "markdown",
      "source": [
        "Understand and implement model evaluation using cross-validation and improve model performance by hyperparameter tuning.\n",
        "\n",
        "Step 1: Import Libraries and Load Data\n"
      ],
      "metadata": {
        "id": "YcmEM54T9vZD"
      }
    },
    {
      "cell_type": "code",
      "source": [
        "# Step 1: Import Libraries\n",
        "import pandas as pd\n",
        "import numpy as np\n",
        "from sklearn.model_selection import cross_val_score, GridSearchCV\n",
        "from sklearn.ensemble import RandomForestClassifier\n",
        "from sklearn.linear_model import LogisticRegression\n",
        "from sklearn.impute import SimpleImputer   # ✅ added to handle NaN\n"
      ],
      "metadata": {
        "id": "RdZMZBP2_TQh"
      },
      "execution_count": 9,
      "outputs": []
    },
    {
      "cell_type": "markdown",
      "source": [
        "Step 2: Load Dataset and Prepare Features and Target"
      ],
      "metadata": {
        "id": "LX2r3Pg2_WED"
      }
    },
    {
      "cell_type": "code",
      "source": [
        "# Step 2: Load the data\n",
        "data = pd.read_csv('/content/preprocessed_earthquake_data.csv')\n",
        "\n",
        "# Define target and categorical columns\n",
        "target = 'Status_Reviewed'\n",
        "categorical_cols = ['Type', 'Magnitude Type', 'Source', 'Status']\n",
        "\n",
        "# Drop rows where target is NaN\n",
        "data = data.dropna(subset=[target])\n",
        "\n",
        "# Features and target\n",
        "X = data.drop(columns=[target] + categorical_cols)\n",
        "y = data[target]\n",
        "\n",
        "# Handle missing values in features\n",
        "imputer = SimpleImputer(strategy='median')\n",
        "X = imputer.fit_transform(X)\n"
      ],
      "metadata": {
        "id": "E36SWw_1_VRj"
      },
      "execution_count": 10,
      "outputs": []
    },
    {
      "cell_type": "markdown",
      "source": [
        "Step 3: Implement Cross-Validation"
      ],
      "metadata": {
        "id": "9hjXrP2S_gO-"
      }
    },
    {
      "cell_type": "code",
      "source": [
        "# Step 3: Define models\n",
        "models = {\n",
        "    'RandomForest': RandomForestClassifier(random_state=42),\n",
        "    'LogisticRegression': LogisticRegression(max_iter=500, random_state=42)\n",
        "}\n",
        "\n",
        "# Perform 10-fold cross-validation\n",
        "for name, model in models.items():\n",
        "    print(f\"\\nCross-validation for {name}:\")\n",
        "    scores = cross_val_score(model, X, y, cv=10, scoring='accuracy')\n",
        "    print(f\"Accuracy Scores for each fold: {scores}\")\n",
        "    print(f\"Mean Accuracy: {np.mean(scores):.4f}\")\n",
        "    print(f\"Accuracy Variance: {np.var(scores):.6f}\")\n"
      ],
      "metadata": {
        "colab": {
          "base_uri": "https://localhost:8080/"
        },
        "id": "RJ59HrXu_djn",
        "outputId": "c6ac6bf8-89f5-4eef-dda1-2e7376040a8d"
      },
      "execution_count": 11,
      "outputs": [
        {
          "output_type": "stream",
          "name": "stdout",
          "text": [
            "\n",
            "Cross-validation for RandomForest:\n",
            "Accuracy Scores for each fold: [0.9987185  1.         1.         1.         1.         1.\n",
            " 1.         1.         1.         0.97350427]\n",
            "Mean Accuracy: 0.9972\n",
            "Accuracy Variance: 0.000063\n",
            "\n",
            "Cross-validation for LogisticRegression:\n",
            "Accuracy Scores for each fold: [0.99700982 1.         1.         1.         1.         1.\n",
            " 1.         1.         1.         0.97521368]\n",
            "Mean Accuracy: 0.9972\n",
            "Accuracy Variance: 0.000055\n"
          ]
        }
      ]
    },
    {
      "cell_type": "markdown",
      "source": [
        "Step 4: Hyperparameter Tuning with GridSearchCV"
      ],
      "metadata": {
        "id": "M0lGDVpU_xdH"
      }
    },
    {
      "cell_type": "code",
      "source": [
        "# Step 4: Hyperparameter Tuning\n",
        "\n",
        "# Parameter grid for Random Forest\n",
        "param_grid_rf = {\n",
        "    'n_estimators': [50, 100, 200],\n",
        "    'max_depth': [None, 10, 20],\n",
        "    'min_samples_split': [2, 5]\n",
        "}\n",
        "\n",
        "# Parameter grid for Logistic Regression\n",
        "param_grid_lr = {\n",
        "    'C': [0.01, 0.1, 1, 10],\n",
        "    'penalty': ['l1', 'l2'],\n",
        "    'solver': ['liblinear']  # solver supporting l1 penalty\n",
        "}\n",
        "\n",
        "# GridSearchCV for each model with stratified 5-fold CV\n",
        "grid_searches = {\n",
        "    'RandomForest': GridSearchCV(RandomForestClassifier(random_state=42), param_grid_rf, cv=5, scoring='accuracy'),\n",
        "    'LogisticRegression': GridSearchCV(LogisticRegression(max_iter=500, random_state=42), param_grid_lr, cv=5, scoring='accuracy')\n",
        "}\n",
        "\n",
        "# Fit grid search and find best params and scores\n",
        "for name, gs in grid_searches.items():\n",
        "    gs.fit(X, y)\n",
        "    print(f\"\\nBest parameters for {name}: {gs.best_params_}\")\n",
        "    print(f\"Best cross-validation accuracy for {name}: {gs.best_score_:.4f}\")\n"
      ],
      "metadata": {
        "colab": {
          "base_uri": "https://localhost:8080/"
        },
        "id": "aPf6jSoI_lGi",
        "outputId": "4263fff8-ed3d-47ee-ecf8-143d03bc6e65"
      },
      "execution_count": 12,
      "outputs": [
        {
          "output_type": "stream",
          "name": "stdout",
          "text": [
            "\n",
            "Best parameters for RandomForest: {'max_depth': None, 'min_samples_split': 2, 'n_estimators': 50}\n",
            "Best cross-validation accuracy for RandomForest: 0.9974\n",
            "\n",
            "Best parameters for LogisticRegression: {'C': 0.1, 'penalty': 'l1', 'solver': 'liblinear'}\n",
            "Best cross-validation accuracy for LogisticRegression: 0.9976\n"
          ]
        }
      ]
    },
    {
      "cell_type": "markdown",
      "source": [
        "Step 5: Evaluate Best Model on Full Dataset"
      ],
      "metadata": {
        "id": "U7JpZacSAWKn"
      }
    },
    {
      "cell_type": "code",
      "source": [
        "# Step 5: Evaluate Best Model on Full Dataset\n",
        "\n",
        "# Collect the best models from grid searches\n",
        "best_models = {name: gs.best_estimator_ for name, gs in grid_searches.items()}\n",
        "\n",
        "# Train each best model on the full dataset and report performance\n",
        "for name, model in best_models.items():\n",
        "    model.fit(X, y)\n",
        "    acc = model.score(X, y)\n",
        "    print(f\"\\n{name} trained on full dataset:\")\n",
        "    print(f\"Final Accuracy on entire dataset: {acc:.4f}\")\n"
      ],
      "metadata": {
        "colab": {
          "base_uri": "https://localhost:8080/"
        },
        "id": "WyXxm-9vATHy",
        "outputId": "ab8a0918-62f0-46e9-9864-fd6ae0b04db0"
      },
      "execution_count": 14,
      "outputs": [
        {
          "output_type": "stream",
          "name": "stdout",
          "text": [
            "\n",
            "RandomForest trained on full dataset:\n",
            "Final Accuracy on entire dataset: 1.0000\n",
            "\n",
            "LogisticRegression trained on full dataset:\n",
            "Final Accuracy on entire dataset: 0.9997\n"
          ]
        }
      ]
    }
  ]
}