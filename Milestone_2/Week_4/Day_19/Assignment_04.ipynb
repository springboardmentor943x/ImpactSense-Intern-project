{
 "cells": [
  {
   "cell_type": "markdown",
   "id": "ec871eb9",
   "metadata": {},
   "source": [
    "### Assignment-4\n",
    "\n",
    "**Objective:**\n",
    "\n",
    "Understand and implement model evaluation using cross-validation and improve model performance by hyperparameter tuning."
   ]
  },
  {
   "cell_type": "markdown",
   "id": "0b546c0c",
   "metadata": {},
   "source": [
    "Step 1: Import Libraries and Load Data"
   ]
  },
  {
   "cell_type": "code",
   "execution_count": null,
   "id": "61bf31f2",
   "metadata": {
    "vscode": {
     "languageId": "plaintext"
    }
   },
   "outputs": [],
   "source": []
  },
  {
   "cell_type": "markdown",
   "id": "854d72e2",
   "metadata": {},
   "source": [
    "Step 2: Load Dataset and Prepare Features and Target"
   ]
  },
  {
   "cell_type": "code",
   "execution_count": null,
   "id": "6cfa9002",
   "metadata": {
    "vscode": {
     "languageId": "plaintext"
    }
   },
   "outputs": [],
   "source": []
  },
  {
   "cell_type": "markdown",
   "id": "a3dd027c",
   "metadata": {},
   "source": [
    "Step 3: Implement Cross-Validation"
   ]
  },
  {
   "cell_type": "code",
   "execution_count": null,
   "id": "e3e0df6f",
   "metadata": {
    "vscode": {
     "languageId": "plaintext"
    }
   },
   "outputs": [],
   "source": []
  },
  {
   "cell_type": "markdown",
   "id": "7b7b0b5e",
   "metadata": {},
   "source": [
    "Step 4: Hyperparameter Tuning with GridSearchCV"
   ]
  },
  {
   "cell_type": "code",
   "execution_count": null,
   "id": "5d20e148",
   "metadata": {
    "vscode": {
     "languageId": "plaintext"
    }
   },
   "outputs": [],
   "source": []
  },
  {
   "cell_type": "markdown",
   "id": "49e910ac",
   "metadata": {},
   "source": [
    "Step 5: Evaluate Best Model on Full Dataset"
   ]
  },
  {
   "cell_type": "code",
   "execution_count": null,
   "id": "5866dc2e",
   "metadata": {
    "vscode": {
     "languageId": "plaintext"
    }
   },
   "outputs": [],
   "source": []
  }
 ],
 "metadata": {
  "language_info": {
   "name": "python"
  }
 },
 "nbformat": 4,
 "nbformat_minor": 5
}
