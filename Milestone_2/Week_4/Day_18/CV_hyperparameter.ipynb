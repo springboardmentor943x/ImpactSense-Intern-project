{
 "cells": [
  {
   "cell_type": "markdown",
   "id": "a2b26dd5",
   "metadata": {},
   "source": [
    "### Implementation of Cross-Validation & Hyperparameter Tuning"
   ]
  },
  {
   "cell_type": "code",
   "execution_count": 9,
   "id": "4099a07f",
   "metadata": {},
   "outputs": [
    {
     "name": "stdout",
     "output_type": "stream",
     "text": [
      "\n",
      "Cross-validation for RandomForest:\n",
      "Accuracy Scores for each fold: [0.9987185  1.         1.         1.         1.         1.\n",
      " 1.         1.         1.         0.97350427]\n",
      "Mean Accuracy: 0.9972\n",
      "Accuracy Variance: 0.000063\n",
      "\n",
      "Cross-validation for LogisticRegression:\n",
      "Accuracy Scores for each fold: [0.99700982 1.         1.         1.         1.         1.\n",
      " 1.         1.         1.         0.97521368]\n",
      "Mean Accuracy: 0.9972\n",
      "Accuracy Variance: 0.000055\n"
     ]
    }
   ],
   "source": [
    "from sklearn.model_selection import cross_val_score\n",
    "from sklearn.ensemble import RandomForestClassifier\n",
    "from sklearn.linear_model import LogisticRegression\n",
    "import pandas as pd\n",
    "import numpy as np\n",
    "\n",
    "# Load the data\n",
    "data = pd.read_csv('preprocessed_earthquake_data.csv')\n",
    "\n",
    "# Define target and categorical columns\n",
    "target = 'Status_Reviewed'\n",
    "categorical_cols = ['Type', 'Magnitude Type', 'Source', 'Status']\n",
    "\n",
    "# Features and target\n",
    "X = data.drop(columns=[target]+categorical_cols)\n",
    "y = data[target]\n",
    "\n",
    "# Define models\n",
    "models = {\n",
    "    'RandomForest': RandomForestClassifier(random_state=42),\n",
    "    'LogisticRegression': LogisticRegression(max_iter=500, random_state=42)\n",
    "}\n",
    "\n",
    "for name, model in models.items():\n",
    "    print(f\"\\nCross-validation for {name}:\")\n",
    "    scores = cross_val_score(model, X, y, cv=10, scoring='accuracy')\n",
    "    print(f\"Accuracy Scores for each fold: {scores}\")\n",
    "    print(f\"Mean Accuracy: {np.mean(scores):.4f}\")\n",
    "    print(f\"Accuracy Variance: {np.var(scores):.6f}\")\n"
   ]
  },
  {
   "cell_type": "code",
   "execution_count": null,
   "id": "584458ed",
   "metadata": {},
   "outputs": [
    {
     "name": "stdout",
     "output_type": "stream",
     "text": [
      "\n",
      "Best parameters for RandomForest: {'max_depth': None, 'min_samples_split': 2, 'n_estimators': 50}\n",
      "Best cross-validation accuracy for RandomForest: 0.9974\n",
      "\n",
      "Best parameters for LogisticRegression: {'C': 0.1, 'penalty': 'l1', 'solver': 'liblinear'}\n",
      "Best cross-validation accuracy for LogisticRegression: 0.9976\n"
     ]
    }
   ],
   "source": [
    "# Hyperparameter Tuning and Model Selection\n",
    "\n",
    "from sklearn.model_selection import GridSearchCV\n",
    "\n",
    "# Parameter grid for Random Forest\n",
    "param_grid_rf = {\n",
    "    'n_estimators': [50, 100, 200],\n",
    "    'max_depth': [None, 10, 20],\n",
    "    'min_samples_split': [2, 5]\n",
    "}\n",
    "\n",
    "# Parameter grid for Logistic Regression\n",
    "param_grid_lr = {\n",
    "    'C': [0.01, 0.1, 1, 10],\n",
    "    'penalty': ['l1', 'l2'],\n",
    "    'solver': ['liblinear']  # solver supporting l1 penalty\n",
    "}\n",
    "\n",
    "# GridSearchCV for each model with stratified 5-fold CV\n",
    "grid_searches = {\n",
    "    'RandomForest': GridSearchCV(RandomForestClassifier(random_state=42), param_grid_rf, cv=5, scoring='accuracy'),\n",
    "    'LogisticRegression': GridSearchCV(LogisticRegression(max_iter=500, random_state=42), param_grid_lr, cv=5, scoring='accuracy')\n",
    "}\n",
    "\n",
    "# Fit grid search and find best params and scores\n",
    "for name, gs in grid_searches.items():\n",
    "    gs.fit(X, y)\n",
    "    print(f\"\\nBest parameters for {name}: {gs.best_params_}\")\n",
    "    print(f\"Best cross-validation accuracy for {name}: {gs.best_score_:.4f}\")\n"
   ]
  },
  {
   "cell_type": "code",
   "execution_count": 1,
   "id": "b7148859",
   "metadata": {},
   "outputs": [],
   "source": [
    "## XGBRegressor Vs Linear Regression"
   ]
  }
 ],
 "metadata": {
  "kernelspec": {
   "display_name": "Python 3",
   "language": "python",
   "name": "python3"
  },
  "language_info": {
   "codemirror_mode": {
    "name": "ipython",
    "version": 3
   },
   "file_extension": ".py",
   "mimetype": "text/x-python",
   "name": "python",
   "nbconvert_exporter": "python",
   "pygments_lexer": "ipython3",
   "version": "3.11.9"
  }
 },
 "nbformat": 4,
 "nbformat_minor": 5
}
